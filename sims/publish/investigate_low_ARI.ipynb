{
 "cells": [
  {
   "cell_type": "code",
   "execution_count": 1,
   "metadata": {},
   "outputs": [],
   "source": [
    "using Distributions\n",
    "using Cytof5, Random\n",
    "using JLD2, FileIO\n",
    "import StatsBase"
   ]
  },
  {
   "cell_type": "code",
   "execution_count": 2,
   "metadata": {},
   "outputs": [],
   "source": [
    "using RCall\n",
    "@rimport mclust\n",
    "@rimport base as rbase"
   ]
  },
  {
   "cell_type": "code",
   "execution_count": 3,
   "metadata": {},
   "outputs": [],
   "source": [
    "# Directory containing CB results \n",
    "data_dir = \"/scratchdata/alui2/cytof/results/cb/\"\n",
    "\n",
    "# Path to mm1 and best output\n",
    "path_to_mm0_output = \"$(data_dir)/best/output.jld2\"\n",
    "path_to_mm1_output = \"$(data_dir)/mm1/output.jld2\"\n",
    "path_to_mm2_output = \"$(data_dir)/mm2/output.jld2\";"
   ]
  },
  {
   "cell_type": "code",
   "execution_count": 4,
   "metadata": {},
   "outputs": [
    {
     "name": "stderr",
     "output_type": "stream",
     "text": [
      "┌ Warning: type Model.Model.State{Float64} does not exist in workspace; reconstructing\n",
      "└ @ JLD2 /home/arthur/.julia/packages/JLD2/KjBIK/src/data.jl:1153\n",
      "┌ Warning: type Model.Model.Constants does not exist in workspace; reconstructing\n",
      "└ @ JLD2 /home/arthur/.julia/packages/JLD2/KjBIK/src/data.jl:1153\n",
      "┌ Warning: type Model.Model.##95#96{Int64} does not exist in workspace; reconstructing\n",
      "└ @ JLD2 /home/arthur/.julia/packages/JLD2/KjBIK/src/data.jl:1153\n",
      "┌ Warning: type Model.Model.State{Float64} does not exist in workspace; reconstructing\n",
      "└ @ JLD2 /home/arthur/.julia/packages/JLD2/KjBIK/src/data.jl:1153\n",
      "┌ Warning: type Model.Model.Constants does not exist in workspace; reconstructing\n",
      "└ @ JLD2 /home/arthur/.julia/packages/JLD2/KjBIK/src/data.jl:1153\n",
      "┌ Warning: type Model.Model.##95#96{Int64} does not exist in workspace; reconstructing\n",
      "└ @ JLD2 /home/arthur/.julia/packages/JLD2/KjBIK/src/data.jl:1153\n",
      "┌ Warning: type Model.Model.State{Float64} does not exist in workspace; reconstructing\n",
      "└ @ JLD2 /home/arthur/.julia/packages/JLD2/KjBIK/src/data.jl:1153\n",
      "┌ Warning: type Model.Model.Constants does not exist in workspace; reconstructing\n",
      "└ @ JLD2 /home/arthur/.julia/packages/JLD2/KjBIK/src/data.jl:1153\n",
      "┌ Warning: type Model.Model.##95#96{Int64} does not exist in workspace; reconstructing\n",
      "└ @ JLD2 /home/arthur/.julia/packages/JLD2/KjBIK/src/data.jl:1153\n"
     ]
    },
    {
     "data": {
      "text/plain": [
       "21"
      ]
     },
     "execution_count": 4,
     "metadata": {},
     "output_type": "execute_result"
    }
   ],
   "source": [
    "# Get output for miss-mech-0 and miss-mech-1\n",
    "mm0 = load(path_to_mm0_output)\n",
    "mm1 = load(path_to_mm1_output)\n",
    "mm2 = load(path_to_mm2_output)\n",
    "\n",
    "# Get K from output\n",
    "K = mm0[\"c\"].K"
   ]
  },
  {
   "cell_type": "code",
   "execution_count": 5,
   "metadata": {},
   "outputs": [
    {
     "data": {
      "text/plain": [
       "sample_ari (generic function with 2 methods)"
      ]
     },
     "execution_count": 5,
     "metadata": {},
     "output_type": "execute_result"
    }
   ],
   "source": [
    "# Compute ARI for any two samples\n",
    "function sample_ari(mcmc1::T, mcmc2::T, i::Integer) where T\n",
    "  # Number of mcmc samples\n",
    "  nmcmc = length(mcmc1)\n",
    "\n",
    "  # Get a pair of mcmc samples\n",
    "  idx_1, idx_2 = StatsBase.samplepair(nmcmc)\n",
    "  \n",
    "  # Compute ARI\n",
    "  ari = mclust.adjustedRandIndex(\n",
    "    mcmc1[idx_1][:lam][i],\n",
    "    mcmc2[idx_2][:lam][i]\n",
    "  )\n",
    "\n",
    "  return ari[1]\n",
    "end\n",
    "\n",
    "function sample_ari(mcmc1::T, mcmc2::T, i::Integer, nsamps::Integer) where T\n",
    "  return [sample_ari(mcmc1, mcmc2, i) for _ in 1:nsamps]\n",
    "end"
   ]
  },
  {
   "cell_type": "code",
   "execution_count": 6,
   "metadata": {},
   "outputs": [
    {
     "data": {
      "text/plain": [
       "sample_ari_major (generic function with 2 methods)"
      ]
     },
     "execution_count": 6,
     "metadata": {},
     "output_type": "execute_result"
    }
   ],
   "source": [
    "function sample_ari_major(mcmc1::T, mcmc2::T, i::Integer, min_w::Float64) where T\n",
    "  # Number of mcmc samples\n",
    "  nmcmc = length(mcmc1)\n",
    "\n",
    "  # Get a pair of mcmc samples\n",
    "  idx_1, idx_2 = StatsBase.samplepair(nmcmc)\n",
    "\n",
    "  # Get W for each mcmc sample\n",
    "  w_1 = mcmc1[idx_1][:W][i, :]\n",
    "\n",
    "  # Clusters to keep\n",
    "  cluster_to_keep = findall(x -> x, w_1 .> min_w)\n",
    "\n",
    "  # Observations to keep\n",
    "  idx_keep = findall(cluster_label -> cluster_label in cluster_to_keep,\n",
    "                     mcmc1[idx_1][:lam][i])\n",
    "  \n",
    "  # Compute ARI\n",
    "  ari = mclust.adjustedRandIndex(\n",
    "    mcmc1[idx_1][:lam][i][idx_keep],\n",
    "    mcmc2[idx_2][:lam][i][idx_keep]\n",
    "  )\n",
    "\n",
    "  return ari[1]\n",
    "end\n",
    "\n",
    "function sample_ari_major(mcmc1::T, mcmc2::T, i::Integer,\n",
    "                          min_w::Float64, nsamps::Integer) where T\n",
    "  return [sample_ari_major(mcmc1, mcmc2, i, min_w) for _ in 1:nsamps]\n",
    "end"
   ]
  },
  {
   "cell_type": "code",
   "execution_count": 7,
   "metadata": {},
   "outputs": [
    {
     "name": "stdout",
     "output_type": "stream",
     "text": [
      "Mean ARI mm0: 0.6339210183696793\n",
      "Mean ARI mm0-mm1: 0.4460741032846993\n",
      "Mean ARI mm0-mm2: 0.3938706375827097\n",
      "Mean ARI mm0-mm1 normalized by ARI mm0: 0.7036900827352497\n",
      "Mean ARI mm0-mm2 normalized by ARI mm0: 0.6213327114987436\n"
     ]
    }
   ],
   "source": [
    "# Get the clusterings from each missing mechanism for sample i\n",
    "i = 1\n",
    "\n",
    "# ari_mm0 = sample_ari(mm0[\"out\"][1], mm0[\"out\"][1], i)\n",
    "# ari_mm0_max = maximum(sample_ari(mm0[\"out\"][1], mm0[\"out\"][1], i, 100))\n",
    "\n",
    "# mean(sample_ari_major(mm0[\"out\"][1], mm1[\"out\"][1], 1, .1, 100))\n",
    "# mean(sample_ari_major(mm0[\"out\"][1], mm2[\"out\"][1], 1, .1, 100))\n",
    "\n",
    "aris_mm0 = sample_ari(mm0[\"out\"][1], mm0[\"out\"][1], i, 100)\n",
    "aris_mm0_mm1 = sample_ari(mm0[\"out\"][1], mm1[\"out\"][1], i, 100)\n",
    "aris_mm0_mm2 = sample_ari(mm0[\"out\"][1], mm2[\"out\"][1], i, 100)\n",
    "\n",
    "println(\"Mean ARI mm0: $(mean(aris_mm0))\")\n",
    "println(\"Mean ARI mm0-mm1: $(mean(aris_mm0_mm1))\")\n",
    "println(\"Mean ARI mm0-mm2: $(mean(aris_mm0_mm2))\")\n",
    "\n",
    "println(\"Mean ARI mm0-mm1 normalized by ARI mm0: $(mean(aris_mm0_mm1 ./ aris_mm0))\")\n",
    "println(\"Mean ARI mm0-mm2 normalized by ARI mm0: $(mean(aris_mm0_mm2 ./ aris_mm0))\")"
   ]
  },
  {
   "cell_type": "code",
   "execution_count": 8,
   "metadata": {},
   "outputs": [],
   "source": [
    "ari_mm0_all_methods = Dict(\n",
    "    :advi => [0.290, 0.144, 0.224],\n",
    "    :flowsom => [0.201, 0.106, 0.131],\n",
    "    :mcmc => [0.6344, .5353, .4959]\n",
    ");"
   ]
  },
  {
   "cell_type": "code",
   "execution_count": 9,
   "metadata": {},
   "outputs": [
    {
     "name": "stdout",
     "output_type": "stream",
     "text": [
      "ADVI normalized by MCMC ARI (mm0): [0.457125, 0.269008, 0.451704]\n",
      "ADVI normalized by MCMC ARI (mm0): [0.316835, 0.19802, 0.264166]\n"
     ]
    }
   ],
   "source": [
    "println(\"ADVI normalized by MCMC ARI (mm0): $(ari_mm0_all_methods[:advi] ./ ari_mm0_all_methods[:mcmc])\")\n",
    "println(\"ADVI normalized by MCMC ARI (mm0): $(ari_mm0_all_methods[:flowsom] ./ ari_mm0_all_methods[:mcmc])\")"
   ]
  },
  {
   "cell_type": "code",
   "execution_count": 10,
   "metadata": {},
   "outputs": [
    {
     "data": {
      "text/plain": [
       "to_onehot (generic function with 1 method)"
      ]
     },
     "execution_count": 10,
     "metadata": {},
     "output_type": "execute_result"
    }
   ],
   "source": [
    "function to_onehot(xs, K_max)\n",
    "    N = length(xs)\n",
    "    out = zeros(Bool, N, K_max + 1)\n",
    "    for i in 1:N\n",
    "        k = xs[i]\n",
    "        if k == 0\n",
    "            k = K_max + 1\n",
    "        end\n",
    "        out[i, xs[i]] = 1\n",
    "    end\n",
    "    out\n",
    "end\n",
    "    \n",
    "# to_onehot([1,3,5], 10)"
   ]
  },
  {
   "cell_type": "code",
   "execution_count": 12,
   "metadata": {},
   "outputs": [
    {
     "data": {
      "text/plain": [
       "38636×22 Array{Float64,2}:\n",
       " 0.0       0.0       0.0  0.449776  …  0.0       0.0       0.0       0.0\n",
       " 0.0       0.0       0.0  0.0          0.0       0.0       0.379049  0.0\n",
       " 0.305129  0.345746  0.0  0.0          0.0       0.0       0.0       0.0\n",
       " 0.0       0.0       0.0  0.0          0.0       0.0       0.0       0.0\n",
       " 0.0       0.0       0.0  0.0          0.0       0.0       0.0       0.0\n",
       " 0.0       0.0       0.0  0.0       …  0.182574  0.0       0.0       0.0\n",
       " 0.0       0.0       0.0  0.0          0.0       0.0       0.0       0.0\n",
       " 0.0       0.0       0.0  0.0          0.0       0.0       0.0       0.0\n",
       " 0.0       0.0       0.0  0.0          0.182574  0.0       0.0       0.0\n",
       " 0.0       0.0       0.0  0.0          0.0       0.0       0.0       0.0\n",
       " 0.0       0.0       0.0  0.0       …  0.0       0.0       0.0       0.0\n",
       " 0.0       0.0       0.0  0.0          0.345746  0.0       0.0       0.0\n",
       " 0.0       0.0       0.0  0.0          0.0       0.0       0.0       0.0\n",
       " ⋮                                  ⋱                      ⋮            \n",
       " 0.449776  0.0       0.0  0.0          0.0       0.0       0.0       0.0\n",
       " 0.379049  0.0       0.0  0.0       …  0.0       0.0       0.0       0.0\n",
       " 0.0       0.0       0.0  0.0          0.0       0.0       0.0       0.0\n",
       " 0.0       0.0       0.0  0.0          0.0       0.508548  0.0       0.0\n",
       " 0.0       0.0       0.0  0.0          0.0       0.0       0.0       0.0\n",
       " 0.0       0.0       0.0  0.0          0.0       0.0       0.0       0.0\n",
       " 0.0       0.0       0.0  0.0       …  0.0       0.0       0.0       0.0\n",
       " 0.0       0.0       0.0  0.0          0.182574  0.0       0.182574  0.0\n",
       " 0.0       0.0       0.0  0.0          0.0       0.0       0.0       0.0\n",
       " 0.0       0.0       0.0  0.0          0.0       0.0       0.0       0.0\n",
       " 0.0       0.0       0.0  0.0          0.0       0.0       0.182574  0.0\n",
       " 0.0       0.0       0.0  0.406838  …  0.0       0.0       0.0       0.0"
      ]
     },
     "execution_count": 12,
     "metadata": {},
     "output_type": "execute_result"
    }
   ],
   "source": [
    "# Std of cluster membership for λ₁ in MCMC missing mechanism default.\n",
    "nmcmc = length(mm0[\"out\"][1])\n",
    "lam0_i = [mcmc[:lam][i] for mcmc in mm0[\"out\"][1][1:100:nmcmc]]\n",
    "x = cat([to_onehot(x, K) for x in lam0_i]..., dims=3)\n",
    "sd_x = dropdims(std(x, dims=3), dims=3)"
   ]
  },
  {
   "cell_type": "code",
   "execution_count": null,
   "metadata": {},
   "outputs": [],
   "source": []
  }
 ],
 "metadata": {
  "@webio": {
   "lastCommId": null,
   "lastKernelId": null
  },
  "kernelspec": {
   "display_name": "Julia 1.0.0",
   "language": "julia",
   "name": "julia-1.0"
  },
  "language_info": {
   "file_extension": ".jl",
   "mimetype": "application/julia",
   "name": "julia",
   "version": "1.0.0"
  }
 },
 "nbformat": 4,
 "nbformat_minor": 2
}
