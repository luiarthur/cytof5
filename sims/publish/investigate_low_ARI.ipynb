{
 "cells": [
  {
   "cell_type": "code",
   "execution_count": 1,
   "metadata": {},
   "outputs": [],
   "source": [
    "using Distributions\n",
    "using Cytof5, Random\n",
    "using JLD2, FileIO\n",
    "import StatsBase"
   ]
  },
  {
   "cell_type": "code",
   "execution_count": 55,
   "metadata": {},
   "outputs": [],
   "source": [
    "using RCall\n",
    "@rimport mclust\n",
    "@rimport base as rbase\n",
    "@rimport stats as rstats\n",
    "@rimport graphics as rgraphics"
   ]
  },
  {
   "cell_type": "code",
   "execution_count": 3,
   "metadata": {},
   "outputs": [],
   "source": [
    "# Directory containing CB results \n",
    "data_dir = \"/scratchdata/alui2/cytof/results/cb/\"\n",
    "\n",
    "# Path to mm1 and best output\n",
    "path_to_mm0_output = \"$(data_dir)/best/output.jld2\"\n",
    "path_to_mm1_output = \"$(data_dir)/mm1/output.jld2\"\n",
    "path_to_mm2_output = \"$(data_dir)/mm2/output.jld2\";"
   ]
  },
  {
   "cell_type": "code",
   "execution_count": 4,
   "metadata": {},
   "outputs": [
    {
     "name": "stderr",
     "output_type": "stream",
     "text": [
      "┌ Warning: type Model.Model.State{Float64} does not exist in workspace; reconstructing\n",
      "└ @ JLD2 /home/arthur/.julia/packages/JLD2/KjBIK/src/data.jl:1153\n",
      "┌ Warning: type Model.Model.Constants does not exist in workspace; reconstructing\n",
      "└ @ JLD2 /home/arthur/.julia/packages/JLD2/KjBIK/src/data.jl:1153\n",
      "┌ Warning: type Model.Model.##95#96{Int64} does not exist in workspace; reconstructing\n",
      "└ @ JLD2 /home/arthur/.julia/packages/JLD2/KjBIK/src/data.jl:1153\n",
      "┌ Warning: type Model.Model.State{Float64} does not exist in workspace; reconstructing\n",
      "└ @ JLD2 /home/arthur/.julia/packages/JLD2/KjBIK/src/data.jl:1153\n",
      "┌ Warning: type Model.Model.Constants does not exist in workspace; reconstructing\n",
      "└ @ JLD2 /home/arthur/.julia/packages/JLD2/KjBIK/src/data.jl:1153\n",
      "┌ Warning: type Model.Model.##95#96{Int64} does not exist in workspace; reconstructing\n",
      "└ @ JLD2 /home/arthur/.julia/packages/JLD2/KjBIK/src/data.jl:1153\n",
      "┌ Warning: type Model.Model.State{Float64} does not exist in workspace; reconstructing\n",
      "└ @ JLD2 /home/arthur/.julia/packages/JLD2/KjBIK/src/data.jl:1153\n",
      "┌ Warning: type Model.Model.Constants does not exist in workspace; reconstructing\n",
      "└ @ JLD2 /home/arthur/.julia/packages/JLD2/KjBIK/src/data.jl:1153\n",
      "┌ Warning: type Model.Model.##95#96{Int64} does not exist in workspace; reconstructing\n",
      "└ @ JLD2 /home/arthur/.julia/packages/JLD2/KjBIK/src/data.jl:1153\n"
     ]
    },
    {
     "data": {
      "text/plain": [
       "21"
      ]
     },
     "execution_count": 4,
     "metadata": {},
     "output_type": "execute_result"
    }
   ],
   "source": [
    "# Get output for miss-mech-0 and miss-mech-1\n",
    "mm0 = load(path_to_mm0_output)\n",
    "mm1 = load(path_to_mm1_output)\n",
    "mm2 = load(path_to_mm2_output)\n",
    "\n",
    "# Get K from output\n",
    "K = mm0[\"c\"].K"
   ]
  },
  {
   "cell_type": "code",
   "execution_count": 5,
   "metadata": {},
   "outputs": [
    {
     "data": {
      "text/plain": [
       "sample_ari (generic function with 2 methods)"
      ]
     },
     "execution_count": 5,
     "metadata": {},
     "output_type": "execute_result"
    }
   ],
   "source": [
    "# Compute ARI for any two samples\n",
    "function sample_ari(mcmc1::T, mcmc2::T, i::Integer) where T\n",
    "  # Number of mcmc samples\n",
    "  nmcmc = length(mcmc1)\n",
    "\n",
    "  # Get a pair of mcmc samples\n",
    "  idx_1, idx_2 = StatsBase.samplepair(nmcmc)\n",
    "  \n",
    "  # Compute ARI\n",
    "  ari = mclust.adjustedRandIndex(\n",
    "    mcmc1[idx_1][:lam][i],\n",
    "    mcmc2[idx_2][:lam][i]\n",
    "  )\n",
    "\n",
    "  return ari[1]\n",
    "end\n",
    "\n",
    "function sample_ari(mcmc1::T, mcmc2::T, i::Integer, nsamps::Integer) where T\n",
    "  return [sample_ari(mcmc1, mcmc2, i) for _ in 1:nsamps]\n",
    "end"
   ]
  },
  {
   "cell_type": "code",
   "execution_count": 6,
   "metadata": {},
   "outputs": [
    {
     "data": {
      "text/plain": [
       "sample_ari_major (generic function with 2 methods)"
      ]
     },
     "execution_count": 6,
     "metadata": {},
     "output_type": "execute_result"
    }
   ],
   "source": [
    "function sample_ari_major(mcmc1::T, mcmc2::T, i::Integer, min_w::Float64) where T\n",
    "  # Number of mcmc samples\n",
    "  nmcmc = length(mcmc1)\n",
    "\n",
    "  # Get a pair of mcmc samples\n",
    "  idx_1, idx_2 = StatsBase.samplepair(nmcmc)\n",
    "\n",
    "  # Get W for each mcmc sample\n",
    "  w_1 = mcmc1[idx_1][:W][i, :]\n",
    "\n",
    "  # Clusters to keep\n",
    "  cluster_to_keep = findall(x -> x, w_1 .> min_w)\n",
    "\n",
    "  # Observations to keep\n",
    "  idx_keep = findall(cluster_label -> cluster_label in cluster_to_keep,\n",
    "                     mcmc1[idx_1][:lam][i])\n",
    "  \n",
    "  # Compute ARI\n",
    "  ari = mclust.adjustedRandIndex(\n",
    "    mcmc1[idx_1][:lam][i][idx_keep],\n",
    "    mcmc2[idx_2][:lam][i][idx_keep]\n",
    "  )\n",
    "\n",
    "  return ari[1]\n",
    "end\n",
    "\n",
    "function sample_ari_major(mcmc1::T, mcmc2::T, i::Integer,\n",
    "                          min_w::Float64, nsamps::Integer) where T\n",
    "  return [sample_ari_major(mcmc1, mcmc2, i, min_w) for _ in 1:nsamps]\n",
    "end"
   ]
  },
  {
   "cell_type": "code",
   "execution_count": 7,
   "metadata": {},
   "outputs": [
    {
     "name": "stdout",
     "output_type": "stream",
     "text": [
      "Mean ARI mm0: 0.6339210183696793\n",
      "Mean ARI mm0-mm1: 0.4460741032846993\n",
      "Mean ARI mm0-mm2: 0.3938706375827097\n",
      "Mean ARI mm0-mm1 normalized by ARI mm0: 0.7036900827352497\n",
      "Mean ARI mm0-mm2 normalized by ARI mm0: 0.6213327114987436\n"
     ]
    }
   ],
   "source": [
    "# Get the clusterings from each missing mechanism for sample i\n",
    "i = 1\n",
    "\n",
    "# ari_mm0 = sample_ari(mm0[\"out\"][1], mm0[\"out\"][1], i)\n",
    "# ari_mm0_max = maximum(sample_ari(mm0[\"out\"][1], mm0[\"out\"][1], i, 100))\n",
    "\n",
    "# mean(sample_ari_major(mm0[\"out\"][1], mm1[\"out\"][1], 1, .1, 100))\n",
    "# mean(sample_ari_major(mm0[\"out\"][1], mm2[\"out\"][1], 1, .1, 100))\n",
    "\n",
    "aris_mm0 = sample_ari(mm0[\"out\"][1], mm0[\"out\"][1], i, 100)\n",
    "aris_mm0_mm1 = sample_ari(mm0[\"out\"][1], mm1[\"out\"][1], i, 100)\n",
    "aris_mm0_mm2 = sample_ari(mm0[\"out\"][1], mm2[\"out\"][1], i, 100)\n",
    "\n",
    "println(\"Mean ARI mm0: $(mean(aris_mm0))\")\n",
    "println(\"Mean ARI mm0-mm1: $(mean(aris_mm0_mm1))\")\n",
    "println(\"Mean ARI mm0-mm2: $(mean(aris_mm0_mm2))\")\n",
    "\n",
    "println(\"Mean ARI mm0-mm1 normalized by ARI mm0: $(mean(aris_mm0_mm1 ./ aris_mm0))\")\n",
    "println(\"Mean ARI mm0-mm2 normalized by ARI mm0: $(mean(aris_mm0_mm2 ./ aris_mm0))\")"
   ]
  },
  {
   "cell_type": "code",
   "execution_count": 8,
   "metadata": {},
   "outputs": [],
   "source": [
    "ari_mm0_all_methods = Dict(\n",
    "    :advi => [0.290, 0.144, 0.224],\n",
    "    :flowsom => [0.201, 0.106, 0.131],\n",
    "    :mcmc => [0.6344, .5353, .4959]\n",
    ");"
   ]
  },
  {
   "cell_type": "code",
   "execution_count": 9,
   "metadata": {},
   "outputs": [
    {
     "name": "stdout",
     "output_type": "stream",
     "text": [
      "ADVI normalized by MCMC ARI (mm0): [0.457125, 0.269008, 0.451704]\n",
      "ADVI normalized by MCMC ARI (mm0): [0.316835, 0.19802, 0.264166]\n"
     ]
    }
   ],
   "source": [
    "println(\"ADVI normalized by MCMC ARI (mm0): $(ari_mm0_all_methods[:advi] ./ ari_mm0_all_methods[:mcmc])\")\n",
    "println(\"ADVI normalized by MCMC ARI (mm0): $(ari_mm0_all_methods[:flowsom] ./ ari_mm0_all_methods[:mcmc])\")"
   ]
  },
  {
   "cell_type": "code",
   "execution_count": 10,
   "metadata": {},
   "outputs": [
    {
     "data": {
      "text/plain": [
       "to_onehot (generic function with 1 method)"
      ]
     },
     "execution_count": 10,
     "metadata": {},
     "output_type": "execute_result"
    }
   ],
   "source": [
    "function to_onehot(xs, K_max)\n",
    "    N = length(xs)\n",
    "    out = zeros(Bool, N, K_max + 1)\n",
    "    for i in 1:N\n",
    "        k = xs[i]\n",
    "        if k == 0\n",
    "            k = K_max + 1\n",
    "        end\n",
    "        out[i, xs[i]] = 1\n",
    "    end\n",
    "    out\n",
    "end\n",
    "    \n",
    "# to_onehot([1,3,5], 10)"
   ]
  },
  {
   "cell_type": "code",
   "execution_count": 36,
   "metadata": {},
   "outputs": [
    {
     "data": {
      "text/plain": [
       "21×21 Array{Float64,2}:\n",
       "  1.0         0.17545      0.0378055   …  -0.0657658    -0.0815159 \n",
       "  0.17545     1.0          0.00136093     -0.0676357    -0.0775388 \n",
       "  0.0378055   0.00136093   1.0            -0.0466189    -0.0527605 \n",
       " -0.044931    0.203637     0.129366        0.0526034    -0.0585295 \n",
       " -0.0490467  -0.0416105   -0.0253316       0.00849904   -0.00936723\n",
       " -0.0215042  -0.0631837   -0.0489157   …   0.10979       0.0215592 \n",
       "  0.348228    0.371756     0.309331       -0.124718     -0.107587  \n",
       " -0.104216   -0.0110028   -0.069362       -0.0460217     0.0931434 \n",
       " -0.0528902  -0.0475697   -0.0304601       0.143708     -0.0438271 \n",
       "  0.313769    0.0636868   -0.0441015      -0.0350725    -0.0739811 \n",
       " -0.146966   -0.117619    -0.0860848   …   0.0662965     0.34306   \n",
       " -0.0531795  -0.0514824   -0.0312666      -0.0145324     0.0950197 \n",
       "  0.145808    0.218104     0.0150171       0.0520586    -0.0743038 \n",
       " -0.0708555  -0.0616053   -0.040833       -0.000605729  -0.0210887 \n",
       " -0.0294087   0.0427519   -0.00881403     -0.05674       0.102473  \n",
       " -0.0555     -0.0427644   -0.0247414   …   0.0677192     0.0752425 \n",
       " -0.0100671   0.00598027  -0.0055661       0.0193763     0.00382279\n",
       " -0.0602137  -0.128367    -0.0879467       0.242446      0.0999089 \n",
       " -0.0709881  -0.0666364   -0.0370327       0.0665455     0.138822  \n",
       " -0.0657658  -0.0676357   -0.0466189       1.0           0.0725816 \n",
       " -0.0815159  -0.0775388   -0.0527605   …   0.0725816     1.0       "
      ]
     },
     "execution_count": 36,
     "metadata": {},
     "output_type": "execute_result"
    }
   ],
   "source": [
    "# Std of cluster membership for λ₁ in MCMC missing mechanism default.\n",
    "nmcmc = length(mm0[\"out\"][1])\n",
    "lam0_i = [mcmc[:lam][i] for mcmc in mm0[\"out\"][1][1:100:nmcmc]]\n",
    "x = cat([to_onehot(x, K) for x in lam0_i]..., dims=3)\n",
    "sd_x = dropdims(std(x, dims=3), dims=3)\n",
    "cor_sd_x = cor(sd_x[:, 1:K])"
   ]
  },
  {
   "cell_type": "code",
   "execution_count": 52,
   "metadata": {},
   "outputs": [],
   "source": [
    "# Hierarchical clustering on distance between sd_x\n",
    "hc = rstats.hclust(rstats.dist(sd_x'));"
   ]
  },
  {
   "cell_type": "code",
   "execution_count": 77,
   "metadata": {},
   "outputs": [
    {
     "data": {
      "image/png": "[encoded data removed]"
     },
     "metadata": {},
     "output_type": "display_data"
    }
   ],
   "source": [
    "# Plot hclust for the sd of lambda (one-hot)\n",
    "# Cell types in the same branch are likely\n",
    "# being confused with one another.\n",
    "rgraphics.plot(hc, xlab=\"\", sub=\"\");"
   ]
  },
  {
   "cell_type": "code",
   "execution_count": null,
   "metadata": {},
   "outputs": [],
   "source": []
  }
 ],
 "metadata": {
  "@webio": {
   "lastCommId": null,
   "lastKernelId": null
  },
  "kernelspec": {
   "display_name": "Julia 1.0.0",
   "language": "julia",
   "name": "julia-1.0"
  },
  "language_info": {
   "file_extension": ".jl",
   "mimetype": "application/julia",
   "name": "julia",
   "version": "1.0.0"
  }
 },
 "nbformat": 4,
 "nbformat_minor": 2
}
